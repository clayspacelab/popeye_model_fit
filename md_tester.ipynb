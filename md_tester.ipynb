{
 "cells": [
  {
   "cell_type": "code",
   "execution_count": 1,
   "metadata": {},
   "outputs": [],
   "source": [
    "import numpy as np\n",
    "import ctypes, time, os, tqdm, pickle, sharedmem\n",
    "import matplotlib.pyplot as plt\n",
    "import popeye.cclab as og\n",
    "import popeye.utilities as utils\n",
    "from popeye.visual_stimulus import VisualStimulus, resample_stimulus\n",
    "from popeye import css\n",
    "from scipy.io import loadmat\n",
    "import nibabel as nib\n",
    "from nilearn import plotting\n",
    "import multiprocessing as mp\n",
    "from ipywidgets import interact, widgets\n",
    "from concurrent.futures import ThreadPoolExecutor\n",
    "\n",
    "# Load helper functions\n",
    "from dataloader import set_paths, load_stimuli, copy_files\n",
    "%load_ext autoreload\n",
    "%autoreload 2"
   ]
  },
  {
   "cell_type": "code",
   "execution_count": 28,
   "metadata": {},
   "outputs": [],
   "source": [
    "# Initialize parameters\n",
    "params = {}\n",
    "params['subjID'] = 'JC'\n",
    "# Got these from Zhengang, and he got it from rsvp_params.txt\n",
    "params['viewingDistance'] = 63 #83.5 # in cm\n",
    "params['screenWidth'] = 35#62.2 #36.2 # in cm\n",
    "params['scaleFactor'] = 0.1\n",
    "params['resampleFactor'] = 1080/120\n",
    "params['dtype'] = ctypes.c_int16\n",
    "\n",
    "p = set_paths(params)"
   ]
  },
  {
   "cell_type": "code",
   "execution_count": 8,
   "metadata": {},
   "outputs": [],
   "source": [
    "N = 20\n",
    "x = np.linspace(-15, 15, N)\n",
    "y = np.linspace(-15, 15, N)\n",
    "x0 = np.linspace(-15, 15, N)\n",
    "y0 = np.linspace(-15, 15, N)\n",
    "sig = np.linspace(0.1, 10, N)\n",
    "\n",
    "gauss_mat = np.empty((N, N, N, N, N))\n",
    "for i in range(N):\n",
    "    for j in range(N):\n",
    "        for k in range(N):\n",
    "            for l in range(N):\n",
    "                for m in range(N):\n",
    "                    gauss_mat[i, j, k, l, m] = np.exp(-((x[i] - x0[k])**2 + (y[j] - y0[l])**2) / (2 * sig[m]**2))"
   ]
  },
  {
   "cell_type": "code",
   "execution_count": 29,
   "metadata": {},
   "outputs": [],
   "source": [
    "bar, stim_params = load_stimuli(p)\n",
    "bar = bar[:, :, 0:201]"
   ]
  },
  {
   "cell_type": "markdown",
   "metadata": {},
   "source": []
  },
  {
   "cell_type": "code",
   "execution_count": null,
   "metadata": {},
   "outputs": [],
   "source": []
  }
 ],
 "metadata": {
  "kernelspec": {
   "display_name": "prf_fitter",
   "language": "python",
   "name": "python3"
  },
  "language_info": {
   "codemirror_mode": {
    "name": "ipython",
    "version": 3
   },
   "file_extension": ".py",
   "mimetype": "text/x-python",
   "name": "python",
   "nbconvert_exporter": "python",
   "pygments_lexer": "ipython3",
   "version": "3.12.3"
  }
 },
 "nbformat": 4,
 "nbformat_minor": 2
}
