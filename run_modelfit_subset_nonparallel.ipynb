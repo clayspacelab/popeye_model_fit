{
 "cells": [
  {
   "cell_type": "code",
   "execution_count": 1,
   "metadata": {},
   "outputs": [],
   "source": [
    "import numpy as np\n",
    "import ctypes\n",
    "import matplotlib.pyplot as plt\n",
    "import popeye.og as og\n",
    "import popeye.utilities as utils\n",
    "from popeye.visual_stimulus import VisualStimulus, simulate_bar_stimulus\n",
    "from popeye import css\n",
    "from scipy.io import loadmat\n",
    "import time\n",
    "import nibabel as nib\n",
    "from nilearn import plotting\n",
    "import os\n",
    "import tqdm\n",
    "import pickle\n",
    "import multiprocessing as mp\n",
    "import time\n",
    "from ipywidgets import interact, widgets\n",
    "\n",
    "# Load helper functions\n",
    "from dataloader import set_paths, load_stimuli, copy_files\n",
    "%load_ext autoreload\n",
    "%autoreload 2"
   ]
  },
  {
   "cell_type": "code",
   "execution_count": 2,
   "metadata": {},
   "outputs": [],
   "source": [
    "# Initialize parameters\n",
    "params = {}\n",
    "params['subjID'] = 'JC'\n",
    "# Got these from Zhengang, and he got it from rsvp_params.txt\n",
    "params['viewingDistance'] = 83.5 # in cm\n",
    "params['screenWidth'] = 36.2 # in cm\n",
    "params['scaleFactor'] = 0.4\n",
    "params['tr_length'] = 1.3 # in seconds (got this from Aditya, need to check)\n",
    "params['dtype'] = ctypes.c_int16\n",
    "\n",
    "p = set_paths(params)"
   ]
  },
  {
   "cell_type": "code",
   "execution_count": 3,
   "metadata": {},
   "outputs": [
    {
     "name": "stdout",
     "output_type": "stream",
     "text": [
      "Subject folder already exists\n"
     ]
    }
   ],
   "source": [
    "bar, stim_params = load_stimuli(p)\n",
    "copy_files(p, params)\n",
    "\n",
    "# Extract number of TRs\n",
    "func_data = nib.load(p['pRF_func'])\n",
    "params['nTRs'] = func_data.shape[-1]"
   ]
  },
  {
   "cell_type": "code",
   "execution_count": 4,
   "metadata": {},
   "outputs": [],
   "source": [
    "# create stimulus object from popeye\n",
    "stimulus = VisualStimulus(bar,\n",
    "                          params['viewingDistance'],\n",
    "                          params['screenWidth'],\n",
    "                          params['scaleFactor'],\n",
    "                          params['tr_length'],\n",
    "                          params['dtype'])"
   ]
  },
  {
   "cell_type": "code",
   "execution_count": 5,
   "metadata": {},
   "outputs": [],
   "source": [
    "# model to fit to\n",
    "method = 'ss5'\n",
    "scan_data = nib.load(p['pRF_func']).get_fdata()\n",
    "brainmask_data = nib.load(p['pRF_brainmask']).get_fdata() != 0\n",
    "# Resample brainmask if first 2 dimensions are twice the third dimension\n",
    "if brainmask_data.shape[0] == 2*brainmask_data.shape[2]:\n",
    "    brainmask_data = brainmask_data[::2, ::2, :]"
   ]
  },
  {
   "cell_type": "code",
   "execution_count": 6,
   "metadata": {},
   "outputs": [],
   "source": [
    "# Testing only on visual ROIs\n",
    "# Load visual ROIs\n",
    "lh_v1 = nib.load(os.path.join(p['pRF_data'], params['subjID'], 'roi_mdd', 'lh.V1.nii.gz')).get_fdata()\n",
    "lh_v2d = nib.load(os.path.join(p['pRF_data'], params['subjID'], 'roi_mdd', 'lh.V2d.nii.gz')).get_fdata()\n",
    "lh_v3d = nib.load(os.path.join(p['pRF_data'], params['subjID'], 'roi_mdd', 'lh.V3d.nii.gz')).get_fdata()\n",
    "lh_v3ab = nib.load(os.path.join(p['pRF_data'], params['subjID'], 'roi_mdd', 'lh.V3AB.nii.gz')).get_fdata()\n",
    "rh_v1 = nib.load(os.path.join(p['pRF_data'], params['subjID'], 'roi_mdd', 'rh.V1.nii.gz')).get_fdata()\n",
    "rh_v2d = nib.load(os.path.join(p['pRF_data'], params['subjID'], 'roi_mdd', 'rh.V2d.nii.gz')).get_fdata()\n",
    "rh_v3d = nib.load(os.path.join(p['pRF_data'], params['subjID'], 'roi_mdd', 'rh.V3d.nii.gz')).get_fdata()\n",
    "rh_v3ab = nib.load(os.path.join(p['pRF_data'], params['subjID'], 'roi_mdd', 'rh.V3AB.nii.gz')).get_fdata()\n",
    "# Combine all ROIs using boolean OR\n",
    "visual_rois = lh_v1 + lh_v2d + lh_v3d + lh_v3ab + rh_v1 + rh_v2d + rh_v3d + rh_v3ab\n",
    "visual_rois = visual_rois > 0\n",
    "visual_rois = lh_v2d + rh_v2d\n",
    "visual_rois = visual_rois > 0"
   ]
  },
  {
   "cell_type": "code",
   "execution_count": 9,
   "metadata": {},
   "outputs": [],
   "source": [
    "css_model = css.CompressiveSpatialSummationModel(stimulus, utils.spm_hrf)\n",
    "css_model.hrf_delay = 0\n",
    "css_model.mask_size = 1\n",
    "\n",
    "# Create scan data just for visual ROIs\n",
    "scan_data_visual = scan_data.copy()\n",
    "scan_data_visual[~visual_rois] = 0\n",
    "\n",
    "[xi, yi, zi] = np.nonzero(visual_rois)\n",
    "indices = [(xi[i], yi[i], zi[i]) for i in range(len(xi))]\n",
    "\n",
    "# set search grid\n",
    "x_grid = (-12, 12)\n",
    "y_grid = (-12, 12)\n",
    "s_grid = (1/stimulus.ppd, 15)\n",
    "n_grid = (0.1, 5)\n",
    "grids = (x_grid, y_grid, s_grid, n_grid,)\n",
    "\n",
    "# set search bounds\n",
    "x_bounds = (-30, 30)\n",
    "y_bounds = (-30, 30)\n",
    "sigma_bounds = (1/css_model.stimulus.ppd, 15)\n",
    "n_bounds = (0.1, 5)\n",
    "beta_bounds = (1e-8, None)\n",
    "baseline_bounds = (None, None)\n",
    "bounds = (x_bounds, y_bounds, sigma_bounds, n_bounds, beta_bounds, baseline_bounds)"
   ]
  },
  {
   "cell_type": "code",
   "execution_count": 12,
   "metadata": {},
   "outputs": [
    {
     "name": "stdout",
     "output_type": "stream",
     "text": [
      "Voxel: (49, 99, 61)\n",
      "(201,)\n",
      "Length of voxel data: 201\n"
     ]
    },
    {
     "ename": "ValueError",
     "evalue": "all the input array dimensions except for the concatenation axis must match exactly, but along dimension 1, the array at index 0 has size 211 and the array at index 1 has size 201",
     "output_type": "error",
     "traceback": [
      "\u001b[0;31m---------------------------------------------------------------------------\u001b[0m",
      "\u001b[0;31mValueError\u001b[0m                                Traceback (most recent call last)",
      "Cell \u001b[0;32mIn[12], line 10\u001b[0m\n\u001b[1;32m      8\u001b[0m \u001b[38;5;28mprint\u001b[39m(voxel_data\u001b[38;5;241m.\u001b[39mshape)\n\u001b[1;32m      9\u001b[0m \u001b[38;5;28mprint\u001b[39m(\u001b[38;5;124mf\u001b[39m\u001b[38;5;124m\"\u001b[39m\u001b[38;5;124mLength of voxel data: \u001b[39m\u001b[38;5;132;01m{\u001b[39;00m\u001b[38;5;28mlen\u001b[39m(voxel_data)\u001b[38;5;132;01m}\u001b[39;00m\u001b[38;5;124m\"\u001b[39m)\n\u001b[0;32m---> 10\u001b[0m fit \u001b[38;5;241m=\u001b[39m \u001b[43mcss\u001b[49m\u001b[38;5;241;43m.\u001b[39;49m\u001b[43mCompressiveSpatialSummationFit\u001b[49m\u001b[43m(\u001b[49m\u001b[43mcss_model\u001b[49m\u001b[43m,\u001b[49m\n\u001b[1;32m     11\u001b[0m \u001b[43m                                   \u001b[49m\u001b[43mvoxel_data\u001b[49m\u001b[43m,\u001b[49m\n\u001b[1;32m     12\u001b[0m \u001b[43m                                   \u001b[49m\u001b[43mgrids\u001b[49m\u001b[43m,\u001b[49m\n\u001b[1;32m     13\u001b[0m \u001b[43m                                   \u001b[49m\u001b[43mbounds\u001b[49m\u001b[43m,\u001b[49m\n\u001b[1;32m     14\u001b[0m \u001b[43m                                   \u001b[49m\u001b[43mNs\u001b[49m\u001b[38;5;241;43m=\u001b[39;49m\u001b[38;5;241;43m20\u001b[39;49m\u001b[43m,\u001b[49m\n\u001b[1;32m     15\u001b[0m \u001b[43m                                   \u001b[49m\u001b[43mvoxel_index\u001b[49m\u001b[38;5;241;43m=\u001b[39;49m\u001b[43m(\u001b[49m\u001b[38;5;241;43m1\u001b[39;49m\u001b[43m,\u001b[49m\u001b[43m \u001b[49m\u001b[38;5;241;43m2\u001b[39;49m\u001b[43m,\u001b[49m\u001b[43m \u001b[49m\u001b[38;5;241;43m3\u001b[39;49m\u001b[43m)\u001b[49m\u001b[43m,\u001b[49m\n\u001b[1;32m     16\u001b[0m \u001b[43m                                   \u001b[49m\u001b[43mauto_fit\u001b[49m\u001b[38;5;241;43m=\u001b[39;49m\u001b[38;5;28;43;01mTrue\u001b[39;49;00m\u001b[43m,\u001b[49m\n\u001b[1;32m     17\u001b[0m \u001b[43m                                   \u001b[49m\u001b[43mverbose\u001b[49m\u001b[38;5;241;43m=\u001b[39;49m\u001b[38;5;241;43m2\u001b[39;49m\u001b[43m)\u001b[49m\n\u001b[1;32m     18\u001b[0m \u001b[38;5;28mprint\u001b[39m(fit)\n",
      "File \u001b[0;32m/System/Volumes/Data/d/DATA/hyper/toolboxes/popeye/popeye/css.py:197\u001b[0m, in \u001b[0;36mCompressiveSpatialSummationFit.__init__\u001b[0;34m(self, model, data, grids, bounds, voxel_index, Ns, auto_fit, verbose)\u001b[0m\n\u001b[1;32m    134\u001b[0m \u001b[38;5;28;01mdef\u001b[39;00m \u001b[38;5;21m__init__\u001b[39m(\u001b[38;5;28mself\u001b[39m, model, data, grids, bounds,\n\u001b[1;32m    135\u001b[0m              voxel_index\u001b[38;5;241m=\u001b[39m(\u001b[38;5;241m1\u001b[39m,\u001b[38;5;241m2\u001b[39m,\u001b[38;5;241m3\u001b[39m), Ns\u001b[38;5;241m=\u001b[39m\u001b[38;5;28;01mNone\u001b[39;00m, auto_fit\u001b[38;5;241m=\u001b[39m\u001b[38;5;28;01mTrue\u001b[39;00m, verbose\u001b[38;5;241m=\u001b[39m\u001b[38;5;241m0\u001b[39m):\n\u001b[1;32m    138\u001b[0m \u001b[38;5;250m    \u001b[39m\u001b[38;5;124mr\u001b[39m\u001b[38;5;124;03m\"\"\"\u001b[39;00m\n\u001b[1;32m    139\u001b[0m \u001b[38;5;124;03m    A class containing tools for fitting the CSS pRF model.\u001b[39;00m\n\u001b[1;32m    140\u001b[0m \u001b[38;5;124;03m    \u001b[39;00m\n\u001b[0;32m   (...)\u001b[0m\n\u001b[1;32m    194\u001b[0m \u001b[38;5;124;03m    \u001b[39;00m\n\u001b[1;32m    195\u001b[0m \u001b[38;5;124;03m    \"\"\"\u001b[39;00m\n\u001b[0;32m--> 197\u001b[0m     \u001b[43mPopulationFit\u001b[49m\u001b[38;5;241;43m.\u001b[39;49m\u001b[38;5;21;43m__init__\u001b[39;49m\u001b[43m(\u001b[49m\u001b[38;5;28;43mself\u001b[39;49m\u001b[43m,\u001b[49m\u001b[43m \u001b[49m\u001b[43mmodel\u001b[49m\u001b[43m,\u001b[49m\u001b[43m \u001b[49m\u001b[43mdata\u001b[49m\u001b[43m,\u001b[49m\u001b[43m \u001b[49m\u001b[43mgrids\u001b[49m\u001b[43m,\u001b[49m\u001b[43m \u001b[49m\u001b[43mbounds\u001b[49m\u001b[43m,\u001b[49m\u001b[43m \u001b[49m\n\u001b[1;32m    198\u001b[0m \u001b[43m                           \u001b[49m\u001b[43mvoxel_index\u001b[49m\u001b[43m,\u001b[49m\u001b[43m \u001b[49m\u001b[43mNs\u001b[49m\u001b[43m,\u001b[49m\u001b[43m \u001b[49m\u001b[43mauto_fit\u001b[49m\u001b[43m,\u001b[49m\u001b[43m \u001b[49m\u001b[43mverbose\u001b[49m\u001b[43m)\u001b[49m\n",
      "File \u001b[0;32m/System/Volumes/Data/d/DATA/hyper/toolboxes/popeye/popeye/base.py:284\u001b[0m, in \u001b[0;36mPopulationFit.__init__\u001b[0;34m(self, model, data, grids, bounds, voxel_index, Ns, auto_fit, verbose)\u001b[0m\n\u001b[1;32m    281\u001b[0m \u001b[38;5;28mself\u001b[39m\u001b[38;5;241m.\u001b[39mstart \u001b[38;5;241m=\u001b[39m time\u001b[38;5;241m.\u001b[39mtime()\n\u001b[1;32m    283\u001b[0m \u001b[38;5;66;03m# fit\u001b[39;00m\n\u001b[0;32m--> 284\u001b[0m \u001b[38;5;28;43mself\u001b[39;49m\u001b[38;5;241;43m.\u001b[39;49m\u001b[43mballpark\u001b[49m\n\u001b[1;32m    285\u001b[0m \u001b[38;5;28mself\u001b[39m\u001b[38;5;241m.\u001b[39mestimate\n\u001b[1;32m    286\u001b[0m \u001b[38;5;28mself\u001b[39m\u001b[38;5;241m.\u001b[39moverloaded_estimate\n",
      "File \u001b[0;32m/System/Volumes/Data/d/DATA/hyper/toolboxes/popeye/popeye/onetime.py:174\u001b[0m, in \u001b[0;36mOneTimeProperty.__get__\u001b[0;34m(self, obj, type)\u001b[0m\n\u001b[1;32m    170\u001b[0m     \u001b[38;5;28;01mreturn\u001b[39;00m \u001b[38;5;28mself\u001b[39m\u001b[38;5;241m.\u001b[39mgetter \u001b[38;5;66;03m# pragma: no cover   \u001b[39;00m\n\u001b[1;32m    172\u001b[0m \u001b[38;5;66;03m# Errors in the following line are errors in setting a\u001b[39;00m\n\u001b[1;32m    173\u001b[0m \u001b[38;5;66;03m# OneTimeProperty\u001b[39;00m\n\u001b[0;32m--> 174\u001b[0m val \u001b[38;5;241m=\u001b[39m \u001b[38;5;28;43mself\u001b[39;49m\u001b[38;5;241;43m.\u001b[39;49m\u001b[43mgetter\u001b[49m\u001b[43m(\u001b[49m\u001b[43mobj\u001b[49m\u001b[43m)\u001b[49m\n\u001b[1;32m    176\u001b[0m \u001b[38;5;28msetattr\u001b[39m(obj, \u001b[38;5;28mself\u001b[39m\u001b[38;5;241m.\u001b[39mname, val)\n\u001b[1;32m    177\u001b[0m \u001b[38;5;28;01mreturn\u001b[39;00m val\n",
      "File \u001b[0;32m/System/Volumes/Data/d/DATA/hyper/toolboxes/popeye/popeye/base.py:330\u001b[0m, in \u001b[0;36mPopulationFit.ballpark\u001b[0;34m(self)\u001b[0m\n\u001b[1;32m    328\u001b[0m     \u001b[38;5;28;01mreturn\u001b[39;00m \u001b[38;5;28mself\u001b[39m\u001b[38;5;241m.\u001b[39mbest_cached_model_parameters\n\u001b[1;32m    329\u001b[0m \u001b[38;5;28;01melse\u001b[39;00m:\n\u001b[0;32m--> 330\u001b[0m     \u001b[38;5;28;01mreturn\u001b[39;00m np\u001b[38;5;241m.\u001b[39mappend(\u001b[38;5;28;43mself\u001b[39;49m\u001b[38;5;241;43m.\u001b[39;49m\u001b[43mbrute_force\u001b[49m[\u001b[38;5;241m0\u001b[39m],(\u001b[38;5;28mself\u001b[39m\u001b[38;5;241m.\u001b[39mslope,\u001b[38;5;28mself\u001b[39m\u001b[38;5;241m.\u001b[39mintercept))\n",
      "File \u001b[0;32m/System/Volumes/Data/d/DATA/hyper/toolboxes/popeye/popeye/onetime.py:174\u001b[0m, in \u001b[0;36mOneTimeProperty.__get__\u001b[0;34m(self, obj, type)\u001b[0m\n\u001b[1;32m    170\u001b[0m     \u001b[38;5;28;01mreturn\u001b[39;00m \u001b[38;5;28mself\u001b[39m\u001b[38;5;241m.\u001b[39mgetter \u001b[38;5;66;03m# pragma: no cover   \u001b[39;00m\n\u001b[1;32m    172\u001b[0m \u001b[38;5;66;03m# Errors in the following line are errors in setting a\u001b[39;00m\n\u001b[1;32m    173\u001b[0m \u001b[38;5;66;03m# OneTimeProperty\u001b[39;00m\n\u001b[0;32m--> 174\u001b[0m val \u001b[38;5;241m=\u001b[39m \u001b[38;5;28;43mself\u001b[39;49m\u001b[38;5;241;43m.\u001b[39;49m\u001b[43mgetter\u001b[49m\u001b[43m(\u001b[49m\u001b[43mobj\u001b[49m\u001b[43m)\u001b[49m\n\u001b[1;32m    176\u001b[0m \u001b[38;5;28msetattr\u001b[39m(obj, \u001b[38;5;28mself\u001b[39m\u001b[38;5;241m.\u001b[39mname, val)\n\u001b[1;32m    177\u001b[0m \u001b[38;5;28;01mreturn\u001b[39;00m val\n",
      "File \u001b[0;32m/System/Volumes/Data/d/DATA/hyper/toolboxes/popeye/popeye/base.py:316\u001b[0m, in \u001b[0;36mPopulationFit.brute_force\u001b[0;34m(self)\u001b[0m\n\u001b[1;32m    314\u001b[0m \u001b[38;5;129m@auto_attr\u001b[39m\n\u001b[1;32m    315\u001b[0m \u001b[38;5;28;01mdef\u001b[39;00m \u001b[38;5;21mbrute_force\u001b[39m(\u001b[38;5;28mself\u001b[39m):\n\u001b[0;32m--> 316\u001b[0m     \u001b[38;5;28;01mreturn\u001b[39;00m \u001b[43mutils\u001b[49m\u001b[38;5;241;43m.\u001b[39;49m\u001b[43mbrute_force_search\u001b[49m\u001b[43m(\u001b[49m\u001b[38;5;28;43mself\u001b[39;49m\u001b[38;5;241;43m.\u001b[39;49m\u001b[43mdata\u001b[49m\u001b[43m,\u001b[49m\n\u001b[1;32m    317\u001b[0m \u001b[43m                                    \u001b[49m\u001b[43mutils\u001b[49m\u001b[38;5;241;43m.\u001b[39;49m\u001b[43merror_function\u001b[49m\u001b[43m,\u001b[49m\n\u001b[1;32m    318\u001b[0m \u001b[43m                                    \u001b[49m\u001b[38;5;28;43mself\u001b[39;49m\u001b[38;5;241;43m.\u001b[39;49m\u001b[43mmodel\u001b[49m\u001b[38;5;241;43m.\u001b[39;49m\u001b[43mgenerate_ballpark_prediction\u001b[49m\u001b[43m,\u001b[49m\n\u001b[1;32m    319\u001b[0m \u001b[43m                                    \u001b[49m\u001b[38;5;28;43mself\u001b[39;49m\u001b[38;5;241;43m.\u001b[39;49m\u001b[43mgrids\u001b[49m\u001b[43m,\u001b[49m\n\u001b[1;32m    320\u001b[0m \u001b[43m                                    \u001b[49m\u001b[38;5;28;43mself\u001b[39;49m\u001b[38;5;241;43m.\u001b[39;49m\u001b[43mNs\u001b[49m\u001b[43m,\u001b[49m\n\u001b[1;32m    321\u001b[0m \u001b[43m                                    \u001b[49m\u001b[38;5;28;43mself\u001b[39;49m\u001b[38;5;241;43m.\u001b[39;49m\u001b[43mvery_verbose\u001b[49m\u001b[43m)\u001b[49m\n",
      "File \u001b[0;32m/System/Volumes/Data/d/DATA/hyper/toolboxes/popeye/popeye/utilities.py:542\u001b[0m, in \u001b[0;36mbrute_force_search\u001b[0;34m(data, error_function, objective_function, grids, Ns, verbose)\u001b[0m\n\u001b[1;32m    533\u001b[0m     output \u001b[38;5;241m=\u001b[39m brute(error_function_rss,\n\u001b[1;32m    534\u001b[0m                    args\u001b[38;5;241m=\u001b[39m(data, objective_function, verbose),\n\u001b[1;32m    535\u001b[0m                    ranges\u001b[38;5;241m=\u001b[39mgrids,\n\u001b[1;32m    536\u001b[0m                    finish\u001b[38;5;241m=\u001b[39m\u001b[38;5;28;01mNone\u001b[39;00m,\n\u001b[1;32m    537\u001b[0m                    full_output\u001b[38;5;241m=\u001b[39m\u001b[38;5;28;01mTrue\u001b[39;00m,\n\u001b[1;32m    538\u001b[0m                    disp\u001b[38;5;241m=\u001b[39m\u001b[38;5;28;01mFalse\u001b[39;00m)\n\u001b[1;32m    540\u001b[0m \u001b[38;5;66;03m# otherwise specify (min,max) and Ns for each dimension\u001b[39;00m\n\u001b[1;32m    541\u001b[0m \u001b[38;5;28;01melse\u001b[39;00m:\n\u001b[0;32m--> 542\u001b[0m     output \u001b[38;5;241m=\u001b[39m \u001b[43mbrute\u001b[49m\u001b[43m(\u001b[49m\u001b[43merror_function_rss\u001b[49m\u001b[43m,\u001b[49m\n\u001b[1;32m    543\u001b[0m \u001b[43m           \u001b[49m\u001b[43margs\u001b[49m\u001b[38;5;241;43m=\u001b[39;49m\u001b[43m(\u001b[49m\u001b[43mdata\u001b[49m\u001b[43m,\u001b[49m\u001b[43m \u001b[49m\u001b[43mobjective_function\u001b[49m\u001b[43m,\u001b[49m\u001b[43m \u001b[49m\u001b[43mverbose\u001b[49m\u001b[43m)\u001b[49m\u001b[43m,\u001b[49m\n\u001b[1;32m    544\u001b[0m \u001b[43m           \u001b[49m\u001b[43mranges\u001b[49m\u001b[38;5;241;43m=\u001b[39;49m\u001b[43mgrids\u001b[49m\u001b[43m,\u001b[49m\n\u001b[1;32m    545\u001b[0m \u001b[43m           \u001b[49m\u001b[43mNs\u001b[49m\u001b[38;5;241;43m=\u001b[39;49m\u001b[43mNs\u001b[49m\u001b[43m,\u001b[49m\n\u001b[1;32m    546\u001b[0m \u001b[43m           \u001b[49m\u001b[43mfinish\u001b[49m\u001b[38;5;241;43m=\u001b[39;49m\u001b[38;5;28;43;01mNone\u001b[39;49;00m\u001b[43m,\u001b[49m\n\u001b[1;32m    547\u001b[0m \u001b[43m           \u001b[49m\u001b[43mfull_output\u001b[49m\u001b[38;5;241;43m=\u001b[39;49m\u001b[38;5;28;43;01mTrue\u001b[39;49;00m\u001b[43m,\u001b[49m\n\u001b[1;32m    548\u001b[0m \u001b[43m           \u001b[49m\u001b[43mdisp\u001b[49m\u001b[38;5;241;43m=\u001b[39;49m\u001b[38;5;28;43;01mFalse\u001b[39;49;00m\u001b[43m)\u001b[49m\n\u001b[1;32m    549\u001b[0m \u001b[38;5;28;01mreturn\u001b[39;00m output\n",
      "File \u001b[0;32m~/.conda/envs/prf_fitter/lib/python3.12/site-packages/scipy/optimize/_optimize.py:3798\u001b[0m, in \u001b[0;36mbrute\u001b[0;34m(func, ranges, args, Ns, full_output, finish, disp, workers)\u001b[0m\n\u001b[1;32m   3796\u001b[0m \u001b[38;5;66;03m# iterate over input arrays, possibly in parallel\u001b[39;00m\n\u001b[1;32m   3797\u001b[0m \u001b[38;5;28;01mwith\u001b[39;00m MapWrapper(pool\u001b[38;5;241m=\u001b[39mworkers) \u001b[38;5;28;01mas\u001b[39;00m mapper:\n\u001b[0;32m-> 3798\u001b[0m     Jout \u001b[38;5;241m=\u001b[39m np\u001b[38;5;241m.\u001b[39marray(\u001b[38;5;28;43mlist\u001b[39;49m\u001b[43m(\u001b[49m\u001b[43mmapper\u001b[49m\u001b[43m(\u001b[49m\u001b[43mwrapped_func\u001b[49m\u001b[43m,\u001b[49m\u001b[43m \u001b[49m\u001b[43mgrid\u001b[49m\u001b[43m)\u001b[49m\u001b[43m)\u001b[49m)\n\u001b[1;32m   3799\u001b[0m     \u001b[38;5;28;01mif\u001b[39;00m (N \u001b[38;5;241m==\u001b[39m \u001b[38;5;241m1\u001b[39m):\n\u001b[1;32m   3800\u001b[0m         grid \u001b[38;5;241m=\u001b[39m (grid,)\n",
      "File \u001b[0;32m~/.conda/envs/prf_fitter/lib/python3.12/site-packages/scipy/optimize/_optimize.py:3870\u001b[0m, in \u001b[0;36m_Brute_Wrapper.__call__\u001b[0;34m(self, x)\u001b[0m\n\u001b[1;32m   3868\u001b[0m \u001b[38;5;28;01mdef\u001b[39;00m \u001b[38;5;21m__call__\u001b[39m(\u001b[38;5;28mself\u001b[39m, x):\n\u001b[1;32m   3869\u001b[0m     \u001b[38;5;66;03m# flatten needed for one dimensional case.\u001b[39;00m\n\u001b[0;32m-> 3870\u001b[0m     \u001b[38;5;28;01mreturn\u001b[39;00m \u001b[38;5;28;43mself\u001b[39;49m\u001b[38;5;241;43m.\u001b[39;49m\u001b[43mf\u001b[49m\u001b[43m(\u001b[49m\u001b[43mnp\u001b[49m\u001b[38;5;241;43m.\u001b[39;49m\u001b[43masarray\u001b[49m\u001b[43m(\u001b[49m\u001b[43mx\u001b[49m\u001b[43m)\u001b[49m\u001b[38;5;241;43m.\u001b[39;49m\u001b[43mflatten\u001b[49m\u001b[43m(\u001b[49m\u001b[43m)\u001b[49m\u001b[43m,\u001b[49m\u001b[43m \u001b[49m\u001b[38;5;241;43m*\u001b[39;49m\u001b[38;5;28;43mself\u001b[39;49m\u001b[38;5;241;43m.\u001b[39;49m\u001b[43margs\u001b[49m\u001b[43m)\u001b[49m\n",
      "File \u001b[0;32m/System/Volumes/Data/d/DATA/hyper/toolboxes/popeye/popeye/utilities.py:456\u001b[0m, in \u001b[0;36merror_function_rss\u001b[0;34m(parameters, data, objective_function, verbose)\u001b[0m\n\u001b[1;32m    455\u001b[0m \u001b[38;5;28;01mdef\u001b[39;00m \u001b[38;5;21merror_function_rss\u001b[39m(parameters, data, objective_function, verbose):\n\u001b[0;32m--> 456\u001b[0m     prediction \u001b[38;5;241m=\u001b[39m \u001b[43mobjective_function\u001b[49m\u001b[43m(\u001b[49m\u001b[38;5;241;43m*\u001b[39;49m\u001b[43mparameters\u001b[49m\u001b[43m)\u001b[49m\n\u001b[1;32m    457\u001b[0m     error \u001b[38;5;241m=\u001b[39m rss(data, prediction)\n\u001b[1;32m    458\u001b[0m     \u001b[38;5;28;01mreturn\u001b[39;00m error\n",
      "File \u001b[0;32m/System/Volumes/Data/d/DATA/hyper/toolboxes/popeye/popeye/css.py:79\u001b[0m, in \u001b[0;36mCompressiveSpatialSummationModel.generate_ballpark_prediction\u001b[0;34m(self, x, y, sigma, n)\u001b[0m\n\u001b[1;32m     76\u001b[0m model \u001b[38;5;241m=\u001b[39m (model \u001b[38;5;241m-\u001b[39m np\u001b[38;5;241m.\u001b[39mmean(model)) \u001b[38;5;241m/\u001b[39m np\u001b[38;5;241m.\u001b[39mmean(model)\n\u001b[1;32m     78\u001b[0m \u001b[38;5;66;03m# regress out mean and linear\u001b[39;00m\n\u001b[0;32m---> 79\u001b[0m p \u001b[38;5;241m=\u001b[39m \u001b[43mlinregress\u001b[49m\u001b[43m(\u001b[49m\u001b[43mmodel\u001b[49m\u001b[43m,\u001b[49m\u001b[43m \u001b[49m\u001b[38;5;28;43mself\u001b[39;49m\u001b[38;5;241;43m.\u001b[39;49m\u001b[43mdata\u001b[49m\u001b[43m)\u001b[49m\n\u001b[1;32m     81\u001b[0m \u001b[38;5;66;03m# scale\u001b[39;00m\n\u001b[1;32m     82\u001b[0m model \u001b[38;5;241m*\u001b[39m\u001b[38;5;241m=\u001b[39m p[\u001b[38;5;241m0\u001b[39m]\n",
      "File \u001b[0;32m~/.conda/envs/prf_fitter/lib/python3.12/site-packages/scipy/stats/_stats_mstats_common.py:167\u001b[0m, in \u001b[0;36mlinregress\u001b[0;34m(x, y, alternative)\u001b[0m\n\u001b[1;32m    162\u001b[0m ymean \u001b[38;5;241m=\u001b[39m np\u001b[38;5;241m.\u001b[39mmean(y, \u001b[38;5;28;01mNone\u001b[39;00m)\n\u001b[1;32m    164\u001b[0m \u001b[38;5;66;03m# Average sums of square differences from the mean\u001b[39;00m\n\u001b[1;32m    165\u001b[0m \u001b[38;5;66;03m#   ssxm = mean( (x-mean(x))^2 )\u001b[39;00m\n\u001b[1;32m    166\u001b[0m \u001b[38;5;66;03m#   ssxym = mean( (x-mean(x)) * (y-mean(y)) )\u001b[39;00m\n\u001b[0;32m--> 167\u001b[0m ssxm, ssxym, _, ssym \u001b[38;5;241m=\u001b[39m \u001b[43mnp\u001b[49m\u001b[38;5;241;43m.\u001b[39;49m\u001b[43mcov\u001b[49m\u001b[43m(\u001b[49m\u001b[43mx\u001b[49m\u001b[43m,\u001b[49m\u001b[43m \u001b[49m\u001b[43my\u001b[49m\u001b[43m,\u001b[49m\u001b[43m \u001b[49m\u001b[43mbias\u001b[49m\u001b[38;5;241;43m=\u001b[39;49m\u001b[38;5;241;43m1\u001b[39;49m\u001b[43m)\u001b[49m\u001b[38;5;241m.\u001b[39mflat\n\u001b[1;32m    169\u001b[0m \u001b[38;5;66;03m# R-value\u001b[39;00m\n\u001b[1;32m    170\u001b[0m \u001b[38;5;66;03m#   r = ssxym / sqrt( ssxm * ssym )\u001b[39;00m\n\u001b[1;32m    171\u001b[0m \u001b[38;5;28;01mif\u001b[39;00m ssxm \u001b[38;5;241m==\u001b[39m \u001b[38;5;241m0.0\u001b[39m \u001b[38;5;129;01mor\u001b[39;00m ssym \u001b[38;5;241m==\u001b[39m \u001b[38;5;241m0.0\u001b[39m:\n\u001b[1;32m    172\u001b[0m     \u001b[38;5;66;03m# If the denominator was going to be 0\u001b[39;00m\n",
      "File \u001b[0;32m~/.conda/envs/prf_fitter/lib/python3.12/site-packages/numpy/lib/function_base.py:2683\u001b[0m, in \u001b[0;36mcov\u001b[0;34m(m, y, rowvar, bias, ddof, fweights, aweights, dtype)\u001b[0m\n\u001b[1;32m   2681\u001b[0m     \u001b[38;5;28;01mif\u001b[39;00m \u001b[38;5;129;01mnot\u001b[39;00m rowvar \u001b[38;5;129;01mand\u001b[39;00m y\u001b[38;5;241m.\u001b[39mshape[\u001b[38;5;241m0\u001b[39m] \u001b[38;5;241m!=\u001b[39m \u001b[38;5;241m1\u001b[39m:\n\u001b[1;32m   2682\u001b[0m         y \u001b[38;5;241m=\u001b[39m y\u001b[38;5;241m.\u001b[39mT\n\u001b[0;32m-> 2683\u001b[0m     X \u001b[38;5;241m=\u001b[39m \u001b[43mnp\u001b[49m\u001b[38;5;241;43m.\u001b[39;49m\u001b[43mconcatenate\u001b[49m\u001b[43m(\u001b[49m\u001b[43m(\u001b[49m\u001b[43mX\u001b[49m\u001b[43m,\u001b[49m\u001b[43m \u001b[49m\u001b[43my\u001b[49m\u001b[43m)\u001b[49m\u001b[43m,\u001b[49m\u001b[43m \u001b[49m\u001b[43maxis\u001b[49m\u001b[38;5;241;43m=\u001b[39;49m\u001b[38;5;241;43m0\u001b[39;49m\u001b[43m)\u001b[49m\n\u001b[1;32m   2685\u001b[0m \u001b[38;5;28;01mif\u001b[39;00m ddof \u001b[38;5;129;01mis\u001b[39;00m \u001b[38;5;28;01mNone\u001b[39;00m:\n\u001b[1;32m   2686\u001b[0m     \u001b[38;5;28;01mif\u001b[39;00m bias \u001b[38;5;241m==\u001b[39m \u001b[38;5;241m0\u001b[39m:\n",
      "\u001b[0;31mValueError\u001b[0m: all the input array dimensions except for the concatenation axis must match exactly, but along dimension 1, the array at index 0 has size 211 and the array at index 1 has size 201"
     ]
    }
   ],
   "source": [
    "for ix in range(scan_data.shape[0]):\n",
    "    for iy in range(scan_data.shape[1]):\n",
    "        for iz in range(scan_data.shape[2]):\n",
    "            # Fit data only for voxels in visual ROIs\n",
    "            if visual_rois[ix, iy, iz] == 1:\n",
    "                print(f\"Voxel: ({ix}, {iy}, {iz})\")\n",
    "                voxel_data = scan_data[ix, iy, iz, :]\n",
    "                voxel_data = voxel_data.reshape((1, -1))\n",
    "                # print(voxel_data.shape)\n",
    "                print(f\"Length of voxel data: {len(voxel_data)}\")\n",
    "                fit = css.CompressiveSpatialSummationFit(css_model,\n",
    "                                                   voxel_data,\n",
    "                                                   grids,\n",
    "                                                   bounds,\n",
    "                                                   Ns=20,\n",
    "                                                   voxel_index=(1, 2, 3),\n",
    "                                                   auto_fit=True,\n",
    "                                                   verbose=2)\n",
    "                print(fit)"
   ]
  },
  {
   "cell_type": "code",
   "execution_count": null,
   "metadata": {},
   "outputs": [],
   "source": []
  }
 ],
 "metadata": {
  "kernelspec": {
   "display_name": "prf_fitter",
   "language": "python",
   "name": "python3"
  },
  "language_info": {
   "codemirror_mode": {
    "name": "ipython",
    "version": 3
   },
   "file_extension": ".py",
   "mimetype": "text/x-python",
   "name": "python",
   "nbconvert_exporter": "python",
   "pygments_lexer": "ipython3",
   "version": "3.12.3"
  }
 },
 "nbformat": 4,
 "nbformat_minor": 2
}
